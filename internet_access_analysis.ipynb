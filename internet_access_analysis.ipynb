{
 "cells": [
  {
   "cell_type": "markdown",
   "id": "d7683ff6-60fd-4198-9bc7-3e0333fd0428",
   "metadata": {},
   "source": [
    "# How Much of the World Has Access to the Internet?"
   ]
  },
  {
   "cell_type": "markdown",
   "id": "f8b70d12",
   "metadata": {},
   "source": [
    "## 📖 Background\n",
    "You work for a policy consulting firm. One of the firm's principals is preparing to give a presentation on the state of internet access in the world. She needs your help answering some questions about internet accessibility across the world."
   ]
  },
  {
   "cell_type": "markdown",
   "id": "bb4cd736",
   "metadata": {},
   "source": [
    "## 💾 The data\n",
    "\n",
    "#### The research team compiled the following tables ([source](https://ourworldindata.org/internet)):\n",
    "**internet**\n",
    "- \"Internet_usage\" -  The share of the entity's population who have used the internet in the last three months.\n",
    "\n",
    "**people**\n",
    "- \"Users\" - The number of people who have used the internet in the last three months for that country, region, or group.\n",
    "\n",
    "**broadband**\n",
    "- \"Broadband_Subscriptions\" - The share of fixed subscriptions to high-speed internet at downstream speeds >= 256 kbit/s for that country, region, or group.\n",
    "\n",
    "_**Acknowledgments**: Max Roser, Hannah Ritchie, and Esteban Ortiz-Ospina (2015) - \"Internet.\" OurWorldInData.org._"
   ]
  },
  {
   "cell_type": "markdown",
   "id": "6c0744d0",
   "metadata": {},
   "source": [
    "## 💪 Challenge\n",
    "Create a report to answer the principal's questions. Include:\n",
    "\n",
    "1. What are the top 5 countries with the highest internet use (by population share)?\n",
    "2. How many people had internet access in those countries in 2019?\n",
    "3. What are the top 5 countries with the highest internet use for each of the following regions:  'Middle East & North Africa', 'Latin America & Caribbean', 'East Asia & Pacific', 'South Asia', 'North America', 'Europe & Central Asia'?\n",
    "4. Create a visualization for those five regions' internet usage over time.\n",
    "5. What are the 5 countries with the most internet users?\n",
    "6. What is the correlation between internet usage (population share) and broadband subscriptions for 2019?\n",
    "7. Summarize your findings.\n",
    "\n",
    "_Note:  [This](https://datahelpdesk.worldbank.org/knowledgebase/articles/906519-world-bank-country-and-lending-groups) is how the World Bank defines the different regions._"
   ]
  },
  {
   "cell_type": "markdown",
   "id": "2dbcd97c-9c08-4a94-9a5e-248dca7e87c5",
   "metadata": {},
   "source": [
    "# Analysis"
   ]
  },
  {
   "cell_type": "code",
   "execution_count": 1,
   "id": "19bfab5e-708c-4d02-9d5b-2e8010077eaf",
   "metadata": {
    "executionTime": 69,
    "lastSuccessfullyExecutedCode": "import pandas as pd\nimport numpy as np\nimport matplotlib.pyplot as plt\nimport seaborn as sns\nfrom bs4 import BeautifulSoup\nimport requests"
   },
   "outputs": [],
   "source": [
    "import pandas as pd\n",
    "import numpy as np\n",
    "import matplotlib.pyplot as plt\n",
    "import seaborn as sns\n",
    "from bs4 import BeautifulSoup\n",
    "import requests"
   ]
  },
  {
   "cell_type": "code",
   "execution_count": 2,
   "id": "e334d943-8fcd-4501-bdd1-10fc1aa74c1c",
   "metadata": {
    "executionTime": 93,
    "jupyter": {
     "outputs_hidden": false,
     "source_hidden": false
    },
    "lastSuccessfullyExecutedCode": "# Reading the given csv files into DataFrames, checking the number of rows and nulls, as well as the structure\n\ninternet = pd.read_csv('data/internet.csv')\ninternet.info()"
   },
   "outputs": [
    {
     "name": "stdout",
     "output_type": "stream",
     "text": [
      "<class 'pandas.core.frame.DataFrame'>\n",
      "RangeIndex: 7089 entries, 0 to 7088\n",
      "Data columns (total 4 columns):\n",
      " #   Column          Non-Null Count  Dtype  \n",
      "---  ------          --------------  -----  \n",
      " 0   Entity          7089 non-null   object \n",
      " 1   Code            5761 non-null   object \n",
      " 2   Year            7089 non-null   int64  \n",
      " 3   Internet_Usage  7089 non-null   float64\n",
      "dtypes: float64(1), int64(1), object(2)\n",
      "memory usage: 221.7+ KB\n"
     ]
    }
   ],
   "source": [
    "# Reading the given csv files into DataFrames, checking the number of rows and nulls, as well as the structure\n",
    "\n",
    "internet = pd.read_csv('data/internet.csv')\n",
    "internet.info()"
   ]
  },
  {
   "cell_type": "code",
   "execution_count": null,
   "id": "ad115640-01a3-4e77-966c-15577c401a12",
   "metadata": {
    "executionTime": 81,
    "jupyter": {
     "outputs_hidden": false,
     "source_hidden": false
    },
    "lastSuccessfullyExecutedCode": "internet.head(35)"
   },
   "outputs": [],
   "source": [
    "internet.head(23)"
   ]
  },
  {
   "cell_type": "code",
   "execution_count": 3,
   "id": "e938cf34-f051-4545-b093-b3fc3238b68e",
   "metadata": {
    "executionTime": 59,
    "jupyter": {
     "outputs_hidden": true,
     "source_hidden": false
    },
    "lastSuccessfullyExecutedCode": "people = pd.read_csv('data/people.csv')\npeople.info()"
   },
   "outputs": [
    {
     "name": "stdout",
     "output_type": "stream",
     "text": [
      "<class 'pandas.core.frame.DataFrame'>\n",
      "RangeIndex: 6379 entries, 0 to 6378\n",
      "Data columns (total 4 columns):\n",
      " #   Column  Non-Null Count  Dtype \n",
      "---  ------  --------------  ----- \n",
      " 0   Entity  6379 non-null   object\n",
      " 1   Code    6072 non-null   object\n",
      " 2   Year    6379 non-null   int64 \n",
      " 3   Users   6379 non-null   int64 \n",
      "dtypes: int64(2), object(2)\n",
      "memory usage: 199.5+ KB\n"
     ]
    }
   ],
   "source": [
    "people = pd.read_csv('data/people.csv')\n",
    "people.info()"
   ]
  },
  {
   "cell_type": "code",
   "execution_count": 7,
   "id": "e458c521-f552-4dbe-8204-bd4d56c1d452",
   "metadata": {
    "executionTime": 57,
    "jupyter": {
     "outputs_hidden": true,
     "source_hidden": false
    },
    "lastSuccessfullyExecutedCode": "broadband = pd.read_csv('data/broadband.csv')\nbroadband.info()"
   },
   "outputs": [
    {
     "name": "stdout",
     "output_type": "stream",
     "text": [
      "<class 'pandas.core.frame.DataFrame'>\n",
      "RangeIndex: 3888 entries, 0 to 3887\n",
      "Data columns (total 4 columns):\n",
      " #   Column                   Non-Null Count  Dtype  \n",
      "---  ------                   --------------  -----  \n",
      " 0   Entity                   3888 non-null   object \n",
      " 1   Code                     3617 non-null   object \n",
      " 2   Year                     3888 non-null   int64  \n",
      " 3   Broadband_Subscriptions  3888 non-null   float64\n",
      "dtypes: float64(1), int64(1), object(2)\n",
      "memory usage: 121.6+ KB\n"
     ]
    }
   ],
   "source": [
    "broadband = pd.read_csv('data/broadband.csv')\n",
    "broadband.info()"
   ]
  },
  {
   "cell_type": "code",
   "execution_count": 4,
   "id": "451d2e74-9e9d-47a7-9f33-94ef9d809d66",
   "metadata": {
    "executionTime": 57,
    "lastSuccessfullyExecutedCode": "#checking the range of years available in each DataFrame\nall_years_i = internet['Year'].unique()\nnp.sort(all_years_i)"
   },
   "outputs": [
    {
     "data": {
      "text/plain": [
       "array([1990, 1991, 1992, 1993, 1994, 1995, 1996, 1997, 1998, 1999, 2000,\n",
       "       2001, 2002, 2003, 2004, 2005, 2006, 2007, 2008, 2009, 2010, 2011,\n",
       "       2012, 2013, 2014, 2015, 2016, 2017, 2018, 2019], dtype=int64)"
      ]
     },
     "execution_count": 4,
     "metadata": {},
     "output_type": "execute_result"
    }
   ],
   "source": [
    "#checking the range of years available in each DataFrame\n",
    "all_years_i = internet['Year'].unique()\n",
    "np.sort(all_years_i)"
   ]
  },
  {
   "cell_type": "code",
   "execution_count": 5,
   "id": "635fd95a-f0b3-4ae4-9811-3e20e7b8ac44",
   "metadata": {
    "executionTime": 66,
    "jupyter": {
     "outputs_hidden": false,
     "source_hidden": false
    },
    "lastSuccessfullyExecutedCode": "all_years_p = people['Year'].unique()\nnp.sort(all_years_p)"
   },
   "outputs": [
    {
     "data": {
      "text/plain": [
       "array([1990, 1991, 1992, 1993, 1994, 1995, 1996, 1997, 1998, 1999, 2000,\n",
       "       2001, 2002, 2003, 2004, 2005, 2006, 2007, 2008, 2009, 2010, 2011,\n",
       "       2012, 2013, 2014, 2015, 2016, 2017, 2018, 2019, 2020], dtype=int64)"
      ]
     },
     "execution_count": 5,
     "metadata": {},
     "output_type": "execute_result"
    }
   ],
   "source": [
    "all_years_p = people['Year'].unique()\n",
    "np.sort(all_years_p)"
   ]
  },
  {
   "cell_type": "code",
   "execution_count": 8,
   "id": "c4d140d9-cc13-4cf8-b93e-876207e07cad",
   "metadata": {
    "executionTime": 55,
    "jupyter": {
     "outputs_hidden": false,
     "source_hidden": false
    },
    "lastSuccessfullyExecutedCode": "all_years_b = broadband['Year'].unique()\nnp.sort(all_years_b)"
   },
   "outputs": [
    {
     "data": {
      "text/plain": [
       "array([1998, 1999, 2000, 2001, 2002, 2003, 2004, 2005, 2006, 2007, 2008,\n",
       "       2009, 2010, 2011, 2012, 2013, 2014, 2015, 2016, 2017, 2018, 2019,\n",
       "       2020], dtype=int64)"
      ]
     },
     "execution_count": 8,
     "metadata": {},
     "output_type": "execute_result"
    }
   ],
   "source": [
    "all_years_b = broadband['Year'].unique()\n",
    "np.sort(all_years_b)"
   ]
  },
  {
   "cell_type": "markdown",
   "id": "b01bdb7d-1fc9-49c5-aff8-05348eadf467",
   "metadata": {},
   "source": [
    "#### The dataset examination showed the following:\n",
    "- There are different aggregation levels in the 'Entity' column (country, region).\n",
    "- For all three tables, the null values are present only in the 'Code' column, in rows corresponding to regions.\n",
    "- The number of rows differs, most probably due to a diffent range of years for each table (1990-2019 in 'Internet', 1990-2020 in 'People', and 1998-2020 in 'Broadband'), as well as missing years for some countries."
   ]
  },
  {
   "cell_type": "code",
   "execution_count": 9,
   "id": "e4621892-7d1d-4b19-8867-8549af7194de",
   "metadata": {
    "executionTime": 58,
    "lastSuccessfullyExecutedCode": "#merging three datasets and checking that I haven't lost any data for 'Internet_Usage', 'Users', and 'Broadband_Subscriptions'\ndf_two = pd.merge(internet,people, on=['Entity', 'Code', 'Year'], how='outer')\ndf_full = pd.merge(df_two,broadband, on=['Entity', 'Code', 'Year'], how='outer')\ndf_full.info()"
   },
   "outputs": [
    {
     "name": "stdout",
     "output_type": "stream",
     "text": [
      "<class 'pandas.core.frame.DataFrame'>\n",
      "Int64Index: 8008 entries, 0 to 8007\n",
      "Data columns (total 6 columns):\n",
      " #   Column                   Non-Null Count  Dtype  \n",
      "---  ------                   --------------  -----  \n",
      " 0   Entity                   8008 non-null   object \n",
      " 1   Code                     6284 non-null   object \n",
      " 2   Year                     8008 non-null   int64  \n",
      " 3   Internet_Usage           7089 non-null   float64\n",
      " 4   Users                    6379 non-null   float64\n",
      " 5   Broadband_Subscriptions  3888 non-null   float64\n",
      "dtypes: float64(3), int64(1), object(2)\n",
      "memory usage: 437.9+ KB\n"
     ]
    }
   ],
   "source": [
    "#merging three datasets and checking that I haven't lost any data for 'Internet_Usage', 'Users', and 'Broadband_Subscriptions'\n",
    "df_two = pd.merge(internet,people, on=['Entity', 'Code', 'Year'], how='outer')\n",
    "df_full = pd.merge(df_two,broadband, on=['Entity', 'Code', 'Year'], how='outer')\n",
    "df_full.info()"
   ]
  },
  {
   "cell_type": "code",
   "execution_count": 10,
   "id": "5264428a-3cce-42b9-963c-eb411fda5e73",
   "metadata": {
    "executionTime": 64,
    "jupyter": {
     "outputs_hidden": false,
     "source_hidden": false
    },
    "lastSuccessfullyExecutedCode": "#filtering out the rows with regions and groups, because they don't add any info for this analysis\ndf_countries_only = df_full[df_full['Code'].notnull()]\n\n#checking the list of countries for weird entries\ndf_countries_only['Entity'].unique()"
   },
   "outputs": [
    {
     "data": {
      "text/plain": [
       "array(['Afghanistan', 'Albania', 'Algeria', 'American Samoa', 'Andorra',\n",
       "       'Angola', 'Antigua and Barbuda', 'Argentina', 'Armenia', 'Aruba',\n",
       "       'Australia', 'Austria', 'Azerbaijan', 'Bahamas', 'Bahrain',\n",
       "       'Bangladesh', 'Barbados', 'Belarus', 'Belgium', 'Belize', 'Benin',\n",
       "       'Bermuda', 'Bhutan', 'Bolivia', 'Bosnia and Herzegovina',\n",
       "       'Botswana', 'Brazil', 'British Virgin Islands', 'Brunei',\n",
       "       'Bulgaria', 'Burkina Faso', 'Burundi', 'Cambodia', 'Cameroon',\n",
       "       'Canada', 'Cape Verde', 'Cayman Islands',\n",
       "       'Central African Republic', 'Chad', 'Chile', 'China', 'Colombia',\n",
       "       'Comoros', 'Congo', 'Costa Rica', \"Cote d'Ivoire\", 'Croatia',\n",
       "       'Cuba', 'Curacao', 'Cyprus', 'Czechia',\n",
       "       'Democratic Republic of Congo', 'Denmark', 'Djibouti', 'Dominica',\n",
       "       'Dominican Republic', 'Ecuador', 'Egypt', 'El Salvador',\n",
       "       'Equatorial Guinea', 'Eritrea', 'Estonia', 'Eswatini', 'Ethiopia',\n",
       "       'Faeroe Islands', 'Fiji', 'Finland', 'France', 'French Polynesia',\n",
       "       'Gabon', 'Gambia', 'Georgia', 'Germany', 'Ghana', 'Gibraltar',\n",
       "       'Greece', 'Greenland', 'Grenada', 'Guam', 'Guatemala', 'Guinea',\n",
       "       'Guinea-Bissau', 'Guyana', 'Haiti', 'Honduras', 'Hong Kong',\n",
       "       'Hungary', 'Iceland', 'India', 'Indonesia', 'Iran', 'Iraq',\n",
       "       'Ireland', 'Israel', 'Italy', 'Jamaica', 'Japan', 'Jordan',\n",
       "       'Kazakhstan', 'Kenya', 'Kiribati', 'Kosovo', 'Kuwait',\n",
       "       'Kyrgyzstan', 'Laos', 'Latvia', 'Lebanon', 'Lesotho', 'Liberia',\n",
       "       'Libya', 'Liechtenstein', 'Lithuania', 'Luxembourg', 'Macao',\n",
       "       'Madagascar', 'Malawi', 'Malaysia', 'Maldives', 'Mali', 'Malta',\n",
       "       'Marshall Islands', 'Mauritania', 'Mauritius', 'Mexico',\n",
       "       'Micronesia (country)', 'Moldova', 'Monaco', 'Mongolia',\n",
       "       'Montenegro', 'Morocco', 'Mozambique', 'Myanmar', 'Namibia',\n",
       "       'Nauru', 'Nepal', 'Netherlands', 'New Caledonia', 'New Zealand',\n",
       "       'Nicaragua', 'Niger', 'Nigeria', 'North Korea', 'North Macedonia',\n",
       "       'Northern Mariana Islands', 'Norway', 'Oman', 'Pakistan', 'Palau',\n",
       "       'Palestine', 'Panama', 'Papua New Guinea', 'Paraguay', 'Peru',\n",
       "       'Philippines', 'Poland', 'Portugal', 'Puerto Rico', 'Qatar',\n",
       "       'Romania', 'Russia', 'Rwanda', 'Saint Kitts and Nevis',\n",
       "       'Saint Lucia', 'Saint Vincent and the Grenadines', 'Samoa',\n",
       "       'San Marino', 'Sao Tome and Principe', 'Saudi Arabia', 'Senegal',\n",
       "       'Serbia', 'Seychelles', 'Sierra Leone', 'Singapore', 'Slovakia',\n",
       "       'Slovenia', 'Solomon Islands', 'Somalia', 'South Africa',\n",
       "       'South Korea', 'South Sudan', 'Spain', 'Sri Lanka', 'Sudan',\n",
       "       'Suriname', 'Sweden', 'Switzerland', 'Syria', 'Tajikistan',\n",
       "       'Tanzania', 'Thailand', 'Timor', 'Togo', 'Tonga',\n",
       "       'Trinidad and Tobago', 'Tunisia', 'Turkey', 'Turkmenistan',\n",
       "       'Turks and Caicos Islands', 'Tuvalu', 'Uganda', 'Ukraine',\n",
       "       'United Arab Emirates', 'United Kingdom', 'United States',\n",
       "       'United States Virgin Islands', 'Uruguay', 'Uzbekistan', 'Vanuatu',\n",
       "       'Venezuela', 'Vietnam', 'World', 'Yemen', 'Zambia', 'Zimbabwe'],\n",
       "      dtype=object)"
      ]
     },
     "execution_count": 10,
     "metadata": {},
     "output_type": "execute_result"
    }
   ],
   "source": [
    "#filtering out the rows with regions and groups, because they don't add any info for this analysis\n",
    "df_countries_only = df_full[df_full['Code'].notnull()]\n",
    "\n",
    "#checking the list of countries for weird entries\n",
    "df_countries_only['Entity'].unique()"
   ]
  },
  {
   "cell_type": "code",
   "execution_count": 11,
   "id": "48f5a9ed-5a95-45ca-8fd9-eb921e9db999",
   "metadata": {
    "executionTime": 0,
    "lastSuccessfullyExecutedCode": "#'World' is another level of aggregation, and should be filtered out\ndf_countries_only = df_countries_only[df_countries_only['Entity'] != 'World']"
   },
   "outputs": [],
   "source": [
    "#'World' is another level of aggregation, and should be filtered out\n",
    "df_countries_only = df_countries_only[df_countries_only['Entity'] != 'World']"
   ]
  },
  {
   "cell_type": "markdown",
   "id": "95ab0da9-eab9-4c45-9a96-78c821335742",
   "metadata": {},
   "source": [
    "#### Adding Regions as per the World Bank\n",
    "In order to include region-level to my analysis, I need to load and add as a column the [region classification as per the World Bank](https://datahelpdesk.worldbank.org/knowledgebase/articles/906519-world-bank-country-and-lending-groups)."
   ]
  },
  {
   "cell_type": "code",
   "execution_count": 12,
   "id": "b82e363d-8f29-44ca-b181-02569ccb5aed",
   "metadata": {
    "executionTime": 74,
    "lastSuccessfullyExecutedCode": "#getting the regions' classification as per the World Bank, using BeautifulSoup, and saving it in 'regions' dictionary\nurl = \"https://datahelpdesk.worldbank.org/knowledgebase/articles/906519-world-bank-country-and-lending-groups\"\npage = requests.get(url)\npage.encoding = 'utf-8'\nsoup = BeautifulSoup(page.text)\n\nregions = {\n            'Middle East & North Africa': [],\n            'Latin America & Caribbean': [], \n            'East Asia & Pacific': [],\n            'South Asia': [],\n            'North America': [],\n            'Europe & Central Asia': []}\n\nlabels = {2:'Europe & Central Asia',\n          4:'Middle East & North Africa',\n          3:'Latin America & Caribbean',\n          1:'East Asia & Pacific',\n          6:'South Asia',\n          5:'North America'}\nfor index, table in enumerate(soup.find_all('table')):\n    if index not in labels:\n        continue\n    else:\n        for tr in table.find_all('tr'):\n            for td in tr.find_all('td'):\n                if td.text != '':\n                    regions[labels[index]].append(td.text)\n"
   },
   "outputs": [],
   "source": [
    "#getting the regions' classification as per the World Bank, using BeautifulSoup, and saving it in 'regions' dictionary\n",
    "url = \"https://datahelpdesk.worldbank.org/knowledgebase/articles/906519-world-bank-country-and-lending-groups\"\n",
    "page = requests.get(url)\n",
    "page.encoding = 'utf-8'\n",
    "soup = BeautifulSoup(page.text)\n",
    "\n",
    "regions = {\n",
    "            'Middle East & North Africa': [],\n",
    "            'Latin America & Caribbean': [], \n",
    "            'East Asia & Pacific': [],\n",
    "            'South Asia': [],\n",
    "            'North America': [],\n",
    "            'Europe & Central Asia': [],\n",
    "            'Sub-Saharan Africa': []}\n",
    "\n",
    "labels = {2:'Europe & Central Asia',\n",
    "          4:'Middle East & North Africa',\n",
    "          3:'Latin America & Caribbean',\n",
    "          1:'East Asia & Pacific',\n",
    "          6:'South Asia',\n",
    "          5:'North America',\n",
    "          7: 'Sub-Saharan Africa'}\n",
    "for index, table in enumerate(soup.find_all('table')):\n",
    "    if index not in labels:\n",
    "        continue\n",
    "    else:\n",
    "        for tr in table.find_all('tr'):\n",
    "            for td in tr.find_all('td'):\n",
    "                if td.text != '':\n",
    "                    regions[labels[index]].append(td.text)\n"
   ]
  },
  {
   "cell_type": "code",
   "execution_count": 13,
   "id": "34153bdb-4574-4a6b-a609-ab769ef1849d",
   "metadata": {
    "executionTime": 76,
    "lastSuccessfullyExecutedCode": "#Adding regions to the df_countries_only to get a full DataFrame with all values for all years and a 'Region' column\n\ndf_all_years = df_countries_only.sort_values(by=['Entity', 'Year'])\n\nfor lab, row in df_all_years.iterrows():\n    for key, values in regions.items():\n        if row['Entity'] in values:\n            df_all_years.loc[lab, 'Region'] = key\n            \ndf_all_years.head(1)"
   },
   "outputs": [
    {
     "data": {
      "text/html": [
       "<div>\n",
       "<style scoped>\n",
       "    .dataframe tbody tr th:only-of-type {\n",
       "        vertical-align: middle;\n",
       "    }\n",
       "\n",
       "    .dataframe tbody tr th {\n",
       "        vertical-align: top;\n",
       "    }\n",
       "\n",
       "    .dataframe thead th {\n",
       "        text-align: right;\n",
       "    }\n",
       "</style>\n",
       "<table border=\"1\" class=\"dataframe\">\n",
       "  <thead>\n",
       "    <tr style=\"text-align: right;\">\n",
       "      <th></th>\n",
       "      <th>Entity</th>\n",
       "      <th>Code</th>\n",
       "      <th>Year</th>\n",
       "      <th>Internet_Usage</th>\n",
       "      <th>Users</th>\n",
       "      <th>Broadband_Subscriptions</th>\n",
       "      <th>Region</th>\n",
       "    </tr>\n",
       "  </thead>\n",
       "  <tbody>\n",
       "    <tr>\n",
       "      <th>0</th>\n",
       "      <td>Afghanistan</td>\n",
       "      <td>AFG</td>\n",
       "      <td>1990</td>\n",
       "      <td>0.0</td>\n",
       "      <td>0.0</td>\n",
       "      <td>NaN</td>\n",
       "      <td>South Asia</td>\n",
       "    </tr>\n",
       "  </tbody>\n",
       "</table>\n",
       "</div>"
      ],
      "text/plain": [
       "        Entity Code  Year  Internet_Usage  Users  Broadband_Subscriptions  \\\n",
       "0  Afghanistan  AFG  1990             0.0    0.0                      NaN   \n",
       "\n",
       "       Region  \n",
       "0  South Asia  "
      ]
     },
     "execution_count": 13,
     "metadata": {},
     "output_type": "execute_result"
    }
   ],
   "source": [
    "#Adding regions to the df_countries_only to get a full DataFrame with all values for all years and a 'Region' column\n",
    "\n",
    "df_all_years = df_countries_only.sort_values(by=['Entity', 'Year'])\n",
    "\n",
    "for lab, row in df_all_years.iterrows():\n",
    "    for key, values in regions.items():\n",
    "        if row['Entity'] in values:\n",
    "            df_all_years.loc[lab, 'Region'] = key\n",
    "            \n",
    "df_all_years.head(1)"
   ]
  },
  {
   "cell_type": "markdown",
   "id": "e730e6f8-9498-45e2-b062-c7ad0c877462",
   "metadata": {},
   "source": [
    "Let's prepare a table that answers the first two questions:\n",
    "1. What are the top 5 countries with the highest internet use (by population share)?\n",
    "2. How many people had internet access in those countries in 2019?"
   ]
  },
  {
   "cell_type": "code",
   "execution_count": 14,
   "id": "061d9952-0d38-40e5-b6d8-739dd0555ab6",
   "metadata": {
    "executionTime": 0,
    "lastSuccessfullyExecutedCode": "#creating a DataFame with one last available observation for % of pop. per country (2019 or earlier) and adding a 'Global Rank' column\nlast_observation_percent = df_all_years[df_all_years['Internet_Usage'].notna()].groupby(['Entity'], as_index=False)[['Year']].max()\ntop_percent = pd.merge(last_observation_percent, df_all_years, on=['Entity', 'Year'], how='left')\ntop_percent['Global Rank'] = top_percent['Internet_Usage'].rank(method='dense', ascending=False)"
   },
   "outputs": [],
   "source": [
    "#creating a DataFame with one last available observation for % of pop. per country (2019 or earlier) and adding a 'Global Rank' column\n",
    "last_observation_percent = df_all_years[df_all_years['Internet_Usage'].notna()].groupby(['Entity'], as_index=False)[['Year']].max()\n",
    "top_percent = pd.merge(last_observation_percent, df_all_years, on=['Entity', 'Year'], how='left')\n",
    "top_percent['Global Rank'] = top_percent['Internet_Usage'].rank(method='dense', ascending=False)"
   ]
  },
  {
   "cell_type": "code",
   "execution_count": 15,
   "id": "7047b1be-416c-4b93-8fae-8181918975c4",
   "metadata": {
    "executionTime": 72,
    "lastSuccessfullyExecutedCode": "#reordering, renaming, filtering, etc. the columns in order to better convey the information\ntop_percent_countries = top_percent[['Global Rank', 'Entity', 'Year', 'Internet_Usage','Users','Region']].sort_values(by='Global Rank').rename(columns={'Entity':'Country','Internet_Usage':'% of Population Using Internet', 'Users':'Number of Users'})\ntop_percent_countries.reset_index(drop=True, inplace=True)\ntop_percent_countries['% of Population Using Internet'] = round(top_percent_countries['% of Population Using Internet'],2)\ntop_percent_countries.head()"
   },
   "outputs": [],
   "source": [
    "#reordering, renaming, filtering, etc. the columns in order to better convey the information\n",
    "top_percent_countries = top_percent[['Global Rank', 'Entity', 'Year', 'Internet_Usage','Users','Region']].sort_values(by='Global Rank').rename(columns={'Entity':'Country','Internet_Usage':'% of Population Using Internet', 'Users':'Number of Users'})\n",
    "top_percent_countries.reset_index(drop=True, inplace=True)\n",
    "top_percent_countries['% of Population Using Internet'] = round(top_percent_countries['% of Population Using Internet'],2)"
   ]
  },
  {
   "cell_type": "markdown",
   "id": "931d0000-1a9a-478f-844b-ffece1ac763e",
   "metadata": {},
   "source": [
    "Let's dive into the data on % of the population using the Internet for the following regions: 'Middle East & North Africa', 'Latin America & Caribbean', 'East Asia & Pacific', 'South Asia', 'North America', 'Europe & Central Asia', 'Sub-Saharan Africa', and prepare data for later visualization."
   ]
  },
  {
   "cell_type": "code",
   "execution_count": 16,
   "id": "5db39bfe-8373-4f03-ace6-d55c4297e386",
   "metadata": {
    "executionTime": 0,
    "lastSuccessfullyExecutedCode": "#getting a DataFrame with Internet usage per country with Region and Global Rank info\ntop_per_region = top_percent[['Region', 'Entity', 'Year', 'Internet_Usage', 'Global Rank']].sort_values('Internet_Usage', ascending=False).reset_index(drop=True)\n"
   },
   "outputs": [],
   "source": [
    "#getting a DataFrame with Internet usage per country with Region and Global Rank info\n",
    "top_per_region = top_percent[['Region', 'Entity', 'Year', 'Internet_Usage', 'Global Rank']].sort_values('Internet_Usage', ascending=False).reset_index(drop=True)\n"
   ]
  },
  {
   "cell_type": "code",
   "execution_count": 17,
   "id": "30e76a64-a57a-4af7-9c79-ef755e9451cf",
   "metadata": {
    "executionTime": 0,
    "lastSuccessfullyExecutedCode": "#ranking countries inside each group (nulls sorted out) and getting top five for each\ntop_per_region['Rank per Region'] = top_per_region[top_per_region['Region'].notna()].groupby('Region')['Internet_Usage'].rank(method='min', ascending=False).astype(dtype='int32')\ntop_fives = top_per_region[['Region', 'Rank per Region', 'Entity', 'Internet_Usage', 'Global Rank']][top_per_region['Rank per Region'] < 6].sort_values(['Region', 'Rank per Region']).reset_index(drop=True)\n\n#making the table more visually pleasing\ntop_fives['Internet_Usage'] = round(top_fives['Internet_Usage'],2)\ntop_fives.rename(columns={'Entity':'Country', 'Internet_Usage': '% of Population Using Internet'}, inplace=True)"
   },
   "outputs": [],
   "source": [
    "#ranking countries inside each group (nulls sorted out) and getting top five for each\n",
    "top_per_region['Rank per Region'] = top_per_region[top_per_region['Region'].notna()].groupby('Region')['Internet_Usage'].rank(method='min', ascending=False).astype(dtype='int32')\n",
    "top_fives = top_per_region[['Region', 'Rank per Region', 'Entity', 'Internet_Usage', 'Global Rank']][top_per_region['Rank per Region'] < 6].sort_values(['Region', 'Rank per Region']).reset_index(drop=True)\n",
    "\n",
    "#making the table more visually pleasing\n",
    "top_fives['Internet_Usage'] = round(top_fives['Internet_Usage'],2)\n",
    "top_fives.rename(columns={'Entity':'Country', 'Internet_Usage': '% of Population Using Internet'}, inplace=True)"
   ]
  },
  {
   "cell_type": "code",
   "execution_count": 18,
   "id": "c5316d85-750b-43ad-91df-1d26e05f47c4",
   "metadata": {
    "executionTime": 0,
    "lastSuccessfullyExecutedCode": "#preparing palette for the visualization of regions\n\ncolour = {'Europe & Central Asia':'darkorange',\n          'Middle East & North Africa': 'tomato',\n          'Latin America & Caribbean': 'darkcyan',\n          'East Asia & Pacific': 'royalblue',\n          'South Asia': 'rebeccapurple',\n          'North America': 'olivedrab',\n         'not specified': 'slategray'}"
   },
   "outputs": [],
   "source": [
    "#preparing palette for the visualization of regions\n",
    "\n",
    "colour = {'Europe & Central Asia':'forestgreen',\n",
    "          'Middle East & North Africa': 'orange',\n",
    "          'Latin America & Caribbean': 'darkturquoise',\n",
    "          'East Asia & Pacific': 'firebrick',\n",
    "          'South Asia': 'sienna',\n",
    "          'North America': 'darkmagenta',\n",
    "          'Sub-Saharan Africa': 'royalblue', \n",
    "         'not specified': 'slategray'}"
   ]
  },
  {
   "cell_type": "code",
   "execution_count": 19,
   "id": "33e23d8d-7735-415e-ad5c-c6179fd5a201",
   "metadata": {
    "executionTime": 0,
    "lastSuccessfullyExecutedCode": "#getting the median Internet Usage for these five regions as a measure less affected by outliers than mean for later visualization\nper_region = df_all_years[df_all_years['Internet_Usage'].notna()].groupby(['Region', 'Year'], as_index=False)[['Internet_Usage']].median()\n\n#getting the latest observations for all six regions\nper_region_latest = per_region.groupby('Region', as_index=False)[['Year']].max()\nper_region_latest = pd.merge(per_region_latest, per_region, on=['Region', 'Year'], how='left')\nper_region_latest.rename(columns={'Year': 'Latest Observation', 'Internet_Usage': '% of Population Using the Internet'}, inplace=True)"
   },
   "outputs": [],
   "source": [
    "#getting the median Internet Usage for these five regions as a measure less affected by outliers than mean for later visualization\n",
    "per_region = df_all_years[df_all_years['Internet_Usage'].notna()].groupby(['Region', 'Year'], as_index=False)[['Internet_Usage']].median()\n",
    "\n",
    "#getting the latest observations for all six regions\n",
    "per_region_latest = per_region.groupby('Region', as_index=False)[['Year']].max()\n",
    "per_region_latest = pd.merge(per_region_latest, per_region, on=['Region', 'Year'], how='left')\n",
    "per_region_latest.rename(columns={'Year': 'Latest Observation', 'Internet_Usage': '% of Population Using the Internet'}, inplace=True)"
   ]
  },
  {
   "cell_type": "markdown",
   "id": "1e4cde0b-1d42-4869-b817-848fb6db7587",
   "metadata": {},
   "source": [
    "Let's prepare data to answer the question about 5 countries with the most Internet users."
   ]
  },
  {
   "cell_type": "code",
   "execution_count": 21,
   "id": "a2145ff3-345e-4f93-b9ce-50502b6d013e",
   "metadata": {
    "executionTime": 62,
    "jupyter": {
     "outputs_hidden": true,
     "source_hidden": false
    },
    "lastSuccessfullyExecutedCode": "top_users = df_all_years.groupby('Entity', as_index=False)[['Users']].max().sort_values(by='Users',ascending=False).reset_index(drop=True)\ntop_five_users = top_users.head(5)\ntop_five_users.rename(columns={'Entity':'Country', 'Users': 'Number of Internet Users'}, inplace=True)\ntop_five_users"
   },
   "outputs": [],
   "source": [
    "top_users = df_all_years.groupby('Entity', as_index=False)[['Users']].max().sort_values(by='Users',ascending=False).reset_index(drop=True)\n",
    "top_five_users = top_users.head(5)\n",
    "top_five_users = top_five_users.rename(columns={'Entity':'Country', 'Users': 'Number of Internet Users'})"
   ]
  },
  {
   "cell_type": "markdown",
   "id": "3d5cfdbd-6bbb-4daa-b284-0247cce0689c",
   "metadata": {},
   "source": [
    "Exploring coefficient of correlation between Internet usage (population share) and broadband subscriptions for 2019."
   ]
  },
  {
   "cell_type": "code",
   "execution_count": 22,
   "id": "89830997-0c65-4564-8408-77fa6348b54f",
   "metadata": {
    "executionTime": 0,
    "lastSuccessfullyExecutedCode": "#creating a df with data for 2019 only\ndf_2019 = df_all_years[df_all_years['Year'] == 2019]\ndf_2019.loc[df_2019['Region'].isna(), 'Region'] = 'not specified'\n\n#calculation the Pearson correlation coefficient\ncorrelation = round(df_2019[\"Internet_Usage\"].corr(df_2019[\"Broadband_Subscriptions\"]),2)"
   },
   "outputs": [],
   "source": [
    "#creating a df with data for 2019 only\n",
    "df_2019 = df_all_years[df_all_years['Year'] == 2019]\n",
    "df_2019.loc[df_2019['Region'].isna(), 'Region'] = 'not specified'\n",
    "\n",
    "#calculation the Pearson correlation coefficient\n",
    "correlation = round(df_2019[\"Internet_Usage\"].corr(df_2019[\"Broadband_Subscriptions\"]),2)"
   ]
  },
  {
   "cell_type": "markdown",
   "id": "22259f42-f092-4404-a334-cb772efef124",
   "metadata": {},
   "source": [
    "# Report and Visualizations"
   ]
  },
  {
   "cell_type": "markdown",
   "id": "948ed1c7-d063-4ce1-a086-2ac281b1dc7d",
   "metadata": {},
   "source": [
    "The <mark>top five countries with the highest Internet use by population share</mark> (according to the last available observation for each country) are:\n",
    "- **Bahrain**\n",
    "- **Qatar**\n",
    "- **Liechtenstein**\n",
    "- **Kuwait**\n",
    "- **United Arab Emirates**\n",
    "\n",
    "Four out of five belong to the Middle East & North Africa region, and one to Europe & Central Asia.\n",
    "\n",
    "The percentages for the five countries are very similar, in the range between 99% and 100%. However, the number of users varies quite a lot, given the different sizes of the countries. If we take the last available observation for each country, the number of Internet users will range between 37 744 and 9 133 361.\n",
    "\n",
    "Although we don't have this data for Liechtenstein, the <mark>number of people who had in 2019 access to the Internet in these countries</mark> can be seen in the following table:"
   ]
  },
  {
   "cell_type": "code",
   "execution_count": 23,
   "id": "bd547838-e084-41b4-9034-9a113633a371",
   "metadata": {
    "executionTime": 92,
    "jupyter": {
     "outputs_hidden": false,
     "source_hidden": true
    },
    "lastSuccessfullyExecutedCode": "top_percent_countries.head()\n"
   },
   "outputs": [
    {
     "data": {
      "text/html": [
       "<div>\n",
       "<style scoped>\n",
       "    .dataframe tbody tr th:only-of-type {\n",
       "        vertical-align: middle;\n",
       "    }\n",
       "\n",
       "    .dataframe tbody tr th {\n",
       "        vertical-align: top;\n",
       "    }\n",
       "\n",
       "    .dataframe thead th {\n",
       "        text-align: right;\n",
       "    }\n",
       "</style>\n",
       "<table border=\"1\" class=\"dataframe\">\n",
       "  <thead>\n",
       "    <tr style=\"text-align: right;\">\n",
       "      <th></th>\n",
       "      <th>Global Rank</th>\n",
       "      <th>Country</th>\n",
       "      <th>Year</th>\n",
       "      <th>% of Population Using Internet</th>\n",
       "      <th>Number of Users</th>\n",
       "      <th>Region</th>\n",
       "    </tr>\n",
       "  </thead>\n",
       "  <tbody>\n",
       "    <tr>\n",
       "      <th>0</th>\n",
       "      <td>1.0</td>\n",
       "      <td>Bahrain</td>\n",
       "      <td>2019</td>\n",
       "      <td>99.70</td>\n",
       "      <td>1489735.0</td>\n",
       "      <td>Middle East &amp; North Africa</td>\n",
       "    </tr>\n",
       "    <tr>\n",
       "      <th>1</th>\n",
       "      <td>2.0</td>\n",
       "      <td>Qatar</td>\n",
       "      <td>2019</td>\n",
       "      <td>99.65</td>\n",
       "      <td>2797495.0</td>\n",
       "      <td>Middle East &amp; North Africa</td>\n",
       "    </tr>\n",
       "    <tr>\n",
       "      <th>2</th>\n",
       "      <td>3.0</td>\n",
       "      <td>Liechtenstein</td>\n",
       "      <td>2017</td>\n",
       "      <td>99.55</td>\n",
       "      <td>37744.0</td>\n",
       "      <td>Europe &amp; Central Asia</td>\n",
       "    </tr>\n",
       "    <tr>\n",
       "      <th>3</th>\n",
       "      <td>4.0</td>\n",
       "      <td>Kuwait</td>\n",
       "      <td>2019</td>\n",
       "      <td>99.54</td>\n",
       "      <td>4420795.0</td>\n",
       "      <td>Middle East &amp; North Africa</td>\n",
       "    </tr>\n",
       "    <tr>\n",
       "      <th>4</th>\n",
       "      <td>5.0</td>\n",
       "      <td>United Arab Emirates</td>\n",
       "      <td>2019</td>\n",
       "      <td>99.15</td>\n",
       "      <td>9133361.0</td>\n",
       "      <td>Middle East &amp; North Africa</td>\n",
       "    </tr>\n",
       "  </tbody>\n",
       "</table>\n",
       "</div>"
      ],
      "text/plain": [
       "   Global Rank               Country  Year  % of Population Using Internet  \\\n",
       "0          1.0               Bahrain  2019                           99.70   \n",
       "1          2.0                 Qatar  2019                           99.65   \n",
       "2          3.0         Liechtenstein  2017                           99.55   \n",
       "3          4.0                Kuwait  2019                           99.54   \n",
       "4          5.0  United Arab Emirates  2019                           99.15   \n",
       "\n",
       "   Number of Users                      Region  \n",
       "0        1489735.0  Middle East & North Africa  \n",
       "1        2797495.0  Middle East & North Africa  \n",
       "2          37744.0       Europe & Central Asia  \n",
       "3        4420795.0  Middle East & North Africa  \n",
       "4        9133361.0  Middle East & North Africa  "
      ]
     },
     "execution_count": 23,
     "metadata": {},
     "output_type": "execute_result"
    }
   ],
   "source": [
    "top_percent_countries.head()\n"
   ]
  },
  {
   "cell_type": "markdown",
   "id": "d94bfdec-b14d-49b4-bee4-5be0a2f1f384",
   "metadata": {},
   "source": [
    "We have seen that four out of five top countries with the highest percentage of people using the Internet belong to the Middle East. This observation invites us to have a closer look at at six following regions, as defined by the [World Bank](https://datahelpdesk.worldbank.org/knowledgebase/articles/906519-world-bank-country-and-lending-groups):\n",
    "- Middle East & North Africa\n",
    "- Latin America & Caribbean\n",
    "- East Asia & Pacific\n",
    "- South Asia\n",
    "- North America\n",
    "- Europe & Central Asia\n",
    "\n",
    "The table below contains detailed information, including Rank per Region and Global Rank, for the <mark>top 5 countries with the highest Internet use for each of the mentioned regions</mark>."
   ]
  },
  {
   "cell_type": "code",
   "execution_count": 24,
   "id": "b523edb4-d491-425c-ae94-6d093a4d5694",
   "metadata": {
    "executionTime": 58,
    "jupyter": {
     "outputs_hidden": false,
     "source_hidden": true
    },
    "lastSuccessfullyExecutedCode": "top_fives.style.set_precision(0).background_gradient(subset=['Rank per Region','Global Rank'], cmap='crest')"
   },
   "outputs": [
    {
     "data": {
      "text/html": [
       "<style type=\"text/css\">\n",
       "#T_33b19_row0_col1, #T_33b19_row5_col1, #T_33b19_row10_col1, #T_33b19_row15_col1, #T_33b19_row15_col4, #T_33b19_row20_col1, #T_33b19_row23_col1, #T_33b19_row28_col1 {\n",
       "  background-color: #a5cd90;\n",
       "  color: #000000;\n",
       "}\n",
       "#T_33b19_row0_col4 {\n",
       "  background-color: #7dba91;\n",
       "  color: #000000;\n",
       "}\n",
       "#T_33b19_row1_col1, #T_33b19_row6_col1, #T_33b19_row11_col1, #T_33b19_row16_col1, #T_33b19_row21_col1, #T_33b19_row24_col1, #T_33b19_row29_col1 {\n",
       "  background-color: #61aa90;\n",
       "  color: #f1f1f1;\n",
       "}\n",
       "#T_33b19_row1_col4 {\n",
       "  background-color: #7cb991;\n",
       "  color: #000000;\n",
       "}\n",
       "#T_33b19_row2_col1, #T_33b19_row7_col1, #T_33b19_row12_col1, #T_33b19_row17_col1, #T_33b19_row22_col1, #T_33b19_row25_col1, #T_33b19_row30_col1 {\n",
       "  background-color: #33858d;\n",
       "  color: #f1f1f1;\n",
       "}\n",
       "#T_33b19_row2_col4 {\n",
       "  background-color: #72b490;\n",
       "  color: #f1f1f1;\n",
       "}\n",
       "#T_33b19_row3_col1, #T_33b19_row8_col1, #T_33b19_row13_col1, #T_33b19_row18_col1, #T_33b19_row26_col1, #T_33b19_row31_col1 {\n",
       "  background-color: #1e5d86;\n",
       "  color: #f1f1f1;\n",
       "}\n",
       "#T_33b19_row3_col4 {\n",
       "  background-color: #6bb190;\n",
       "  color: #f1f1f1;\n",
       "}\n",
       "#T_33b19_row4_col1, #T_33b19_row9_col1, #T_33b19_row14_col1, #T_33b19_row19_col1, #T_33b19_row27_col1, #T_33b19_row27_col4, #T_33b19_row32_col1 {\n",
       "  background-color: #2c3172;\n",
       "  color: #f1f1f1;\n",
       "}\n",
       "#T_33b19_row4_col4 {\n",
       "  background-color: #60aa90;\n",
       "  color: #f1f1f1;\n",
       "}\n",
       "#T_33b19_row5_col4 {\n",
       "  background-color: #a3cc91;\n",
       "  color: #000000;\n",
       "}\n",
       "#T_33b19_row6_col4 {\n",
       "  background-color: #9dc991;\n",
       "  color: #000000;\n",
       "}\n",
       "#T_33b19_row7_col4 {\n",
       "  background-color: #9ac791;\n",
       "  color: #000000;\n",
       "}\n",
       "#T_33b19_row8_col4 {\n",
       "  background-color: #99c791;\n",
       "  color: #000000;\n",
       "}\n",
       "#T_33b19_row9_col4 {\n",
       "  background-color: #94c591;\n",
       "  color: #000000;\n",
       "}\n",
       "#T_33b19_row10_col4 {\n",
       "  background-color: #95c591;\n",
       "  color: #000000;\n",
       "}\n",
       "#T_33b19_row11_col4 {\n",
       "  background-color: #59a590;\n",
       "  color: #f1f1f1;\n",
       "}\n",
       "#T_33b19_row12_col4 {\n",
       "  background-color: #55a290;\n",
       "  color: #f1f1f1;\n",
       "}\n",
       "#T_33b19_row13_col4 {\n",
       "  background-color: #53a190;\n",
       "  color: #f1f1f1;\n",
       "}\n",
       "#T_33b19_row14_col4 {\n",
       "  background-color: #52a090;\n",
       "  color: #f1f1f1;\n",
       "}\n",
       "#T_33b19_row16_col4 {\n",
       "  background-color: #a4cc90;\n",
       "  color: #000000;\n",
       "}\n",
       "#T_33b19_row17_col4 {\n",
       "  background-color: #a0cb91;\n",
       "  color: #000000;\n",
       "}\n",
       "#T_33b19_row18_col4 {\n",
       "  background-color: #9fca91;\n",
       "  color: #000000;\n",
       "}\n",
       "#T_33b19_row19_col4 {\n",
       "  background-color: #8fc291;\n",
       "  color: #000000;\n",
       "}\n",
       "#T_33b19_row20_col4 {\n",
       "  background-color: #9cc891;\n",
       "  color: #000000;\n",
       "}\n",
       "#T_33b19_row21_col4 {\n",
       "  background-color: #86be91;\n",
       "  color: #000000;\n",
       "}\n",
       "#T_33b19_row22_col4 {\n",
       "  background-color: #71b490;\n",
       "  color: #f1f1f1;\n",
       "}\n",
       "#T_33b19_row23_col4 {\n",
       "  background-color: #24768b;\n",
       "  color: #f1f1f1;\n",
       "}\n",
       "#T_33b19_row24_col4 {\n",
       "  background-color: #1e5b86;\n",
       "  color: #f1f1f1;\n",
       "}\n",
       "#T_33b19_row25_col4 {\n",
       "  background-color: #244e81;\n",
       "  color: #f1f1f1;\n",
       "}\n",
       "#T_33b19_row26_col4 {\n",
       "  background-color: #26497e;\n",
       "  color: #f1f1f1;\n",
       "}\n",
       "#T_33b19_row28_col4 {\n",
       "  background-color: #25788c;\n",
       "  color: #f1f1f1;\n",
       "}\n",
       "#T_33b19_row29_col4 {\n",
       "  background-color: #1f6f8a;\n",
       "  color: #f1f1f1;\n",
       "}\n",
       "#T_33b19_row30_col4 {\n",
       "  background-color: #1d6c8a;\n",
       "  color: #f1f1f1;\n",
       "}\n",
       "#T_33b19_row31_col4 {\n",
       "  background-color: #1c6589;\n",
       "  color: #f1f1f1;\n",
       "}\n",
       "#T_33b19_row32_col4 {\n",
       "  background-color: #1f5b86;\n",
       "  color: #f1f1f1;\n",
       "}\n",
       "</style>\n",
       "<table id=\"T_33b19\">\n",
       "  <thead>\n",
       "    <tr>\n",
       "      <th class=\"blank level0\" >&nbsp;</th>\n",
       "      <th id=\"T_33b19_level0_col0\" class=\"col_heading level0 col0\" >Region</th>\n",
       "      <th id=\"T_33b19_level0_col1\" class=\"col_heading level0 col1\" >Rank per Region</th>\n",
       "      <th id=\"T_33b19_level0_col2\" class=\"col_heading level0 col2\" >Country</th>\n",
       "      <th id=\"T_33b19_level0_col3\" class=\"col_heading level0 col3\" >% of Population Using Internet</th>\n",
       "      <th id=\"T_33b19_level0_col4\" class=\"col_heading level0 col4\" >Global Rank</th>\n",
       "    </tr>\n",
       "  </thead>\n",
       "  <tbody>\n",
       "    <tr>\n",
       "      <th id=\"T_33b19_level0_row0\" class=\"row_heading level0 row0\" >0</th>\n",
       "      <td id=\"T_33b19_row0_col0\" class=\"data row0 col0\" >East Asia & Pacific</td>\n",
       "      <td id=\"T_33b19_row0_col1\" class=\"data row0 col1\" >1</td>\n",
       "      <td id=\"T_33b19_row0_col2\" class=\"data row0 col2\" >Japan</td>\n",
       "      <td id=\"T_33b19_row0_col3\" class=\"data row0 col3\" >91</td>\n",
       "      <td id=\"T_33b19_row0_col4\" class=\"data row0 col4\" >26</td>\n",
       "    </tr>\n",
       "    <tr>\n",
       "      <th id=\"T_33b19_level0_row1\" class=\"row_heading level0 row1\" >1</th>\n",
       "      <td id=\"T_33b19_row1_col0\" class=\"data row1 col0\" >East Asia & Pacific</td>\n",
       "      <td id=\"T_33b19_row1_col1\" class=\"data row1 col1\" >2</td>\n",
       "      <td id=\"T_33b19_row1_col2\" class=\"data row1 col2\" >New Zealand</td>\n",
       "      <td id=\"T_33b19_row1_col3\" class=\"data row1 col3\" >91</td>\n",
       "      <td id=\"T_33b19_row1_col4\" class=\"data row1 col4\" >27</td>\n",
       "    </tr>\n",
       "    <tr>\n",
       "      <th id=\"T_33b19_level0_row2\" class=\"row_heading level0 row2\" >2</th>\n",
       "      <td id=\"T_33b19_row2_col0\" class=\"data row2 col0\" >East Asia & Pacific</td>\n",
       "      <td id=\"T_33b19_row2_col1\" class=\"data row2 col1\" >3</td>\n",
       "      <td id=\"T_33b19_row2_col2\" class=\"data row2 col2\" >Singapore</td>\n",
       "      <td id=\"T_33b19_row2_col3\" class=\"data row2 col3\" >89</td>\n",
       "      <td id=\"T_33b19_row2_col4\" class=\"data row2 col4\" >33</td>\n",
       "    </tr>\n",
       "    <tr>\n",
       "      <th id=\"T_33b19_level0_row3\" class=\"row_heading level0 row3\" >3</th>\n",
       "      <td id=\"T_33b19_row3_col0\" class=\"data row3 col0\" >East Asia & Pacific</td>\n",
       "      <td id=\"T_33b19_row3_col1\" class=\"data row3 col1\" >4</td>\n",
       "      <td id=\"T_33b19_row3_col2\" class=\"data row3 col2\" >Australia</td>\n",
       "      <td id=\"T_33b19_row3_col3\" class=\"data row3 col3\" >87</td>\n",
       "      <td id=\"T_33b19_row3_col4\" class=\"data row3 col4\" >38</td>\n",
       "    </tr>\n",
       "    <tr>\n",
       "      <th id=\"T_33b19_level0_row4\" class=\"row_heading level0 row4\" >4</th>\n",
       "      <td id=\"T_33b19_row4_col0\" class=\"data row4 col0\" >East Asia & Pacific</td>\n",
       "      <td id=\"T_33b19_row4_col1\" class=\"data row4 col1\" >5</td>\n",
       "      <td id=\"T_33b19_row4_col2\" class=\"data row4 col2\" >Malaysia</td>\n",
       "      <td id=\"T_33b19_row4_col3\" class=\"data row4 col3\" >84</td>\n",
       "      <td id=\"T_33b19_row4_col4\" class=\"data row4 col4\" >46</td>\n",
       "    </tr>\n",
       "    <tr>\n",
       "      <th id=\"T_33b19_level0_row5\" class=\"row_heading level0 row5\" >5</th>\n",
       "      <td id=\"T_33b19_row5_col0\" class=\"data row5 col0\" >Europe & Central Asia</td>\n",
       "      <td id=\"T_33b19_row5_col1\" class=\"data row5 col1\" >1</td>\n",
       "      <td id=\"T_33b19_row5_col2\" class=\"data row5 col2\" >Liechtenstein</td>\n",
       "      <td id=\"T_33b19_row5_col3\" class=\"data row5 col3\" >100</td>\n",
       "      <td id=\"T_33b19_row5_col4\" class=\"data row5 col4\" >3</td>\n",
       "    </tr>\n",
       "    <tr>\n",
       "      <th id=\"T_33b19_level0_row6\" class=\"row_heading level0 row6\" >6</th>\n",
       "      <td id=\"T_33b19_row6_col0\" class=\"data row6 col0\" >Europe & Central Asia</td>\n",
       "      <td id=\"T_33b19_row6_col1\" class=\"data row6 col1\" >2</td>\n",
       "      <td id=\"T_33b19_row6_col2\" class=\"data row6 col2\" >Iceland</td>\n",
       "      <td id=\"T_33b19_row6_col3\" class=\"data row6 col3\" >99</td>\n",
       "      <td id=\"T_33b19_row6_col4\" class=\"data row6 col4\" >6</td>\n",
       "    </tr>\n",
       "    <tr>\n",
       "      <th id=\"T_33b19_level0_row7\" class=\"row_heading level0 row7\" >7</th>\n",
       "      <td id=\"T_33b19_row7_col0\" class=\"data row7 col0\" >Europe & Central Asia</td>\n",
       "      <td id=\"T_33b19_row7_col1\" class=\"data row7 col1\" >3</td>\n",
       "      <td id=\"T_33b19_row7_col2\" class=\"data row7 col2\" >Denmark</td>\n",
       "      <td id=\"T_33b19_row7_col3\" class=\"data row7 col3\" >98</td>\n",
       "      <td id=\"T_33b19_row7_col4\" class=\"data row7 col4\" >8</td>\n",
       "    </tr>\n",
       "    <tr>\n",
       "      <th id=\"T_33b19_level0_row8\" class=\"row_heading level0 row8\" >8</th>\n",
       "      <td id=\"T_33b19_row8_col0\" class=\"data row8 col0\" >Europe & Central Asia</td>\n",
       "      <td id=\"T_33b19_row8_col1\" class=\"data row8 col1\" >4</td>\n",
       "      <td id=\"T_33b19_row8_col2\" class=\"data row8 col2\" >Norway</td>\n",
       "      <td id=\"T_33b19_row8_col3\" class=\"data row8 col3\" >98</td>\n",
       "      <td id=\"T_33b19_row8_col4\" class=\"data row8 col4\" >9</td>\n",
       "    </tr>\n",
       "    <tr>\n",
       "      <th id=\"T_33b19_level0_row9\" class=\"row_heading level0 row9\" >9</th>\n",
       "      <td id=\"T_33b19_row9_col0\" class=\"data row9 col0\" >Europe & Central Asia</td>\n",
       "      <td id=\"T_33b19_row9_col1\" class=\"data row9 col1\" >5</td>\n",
       "      <td id=\"T_33b19_row9_col2\" class=\"data row9 col2\" >Luxembourg</td>\n",
       "      <td id=\"T_33b19_row9_col3\" class=\"data row9 col3\" >97</td>\n",
       "      <td id=\"T_33b19_row9_col4\" class=\"data row9 col4\" >12</td>\n",
       "    </tr>\n",
       "    <tr>\n",
       "      <th id=\"T_33b19_level0_row10\" class=\"row_heading level0 row10\" >10</th>\n",
       "      <td id=\"T_33b19_row10_col0\" class=\"data row10 col0\" >Latin America & Caribbean</td>\n",
       "      <td id=\"T_33b19_row10_col1\" class=\"data row10 col1\" >1</td>\n",
       "      <td id=\"T_33b19_row10_col2\" class=\"data row10 col2\" >Aruba</td>\n",
       "      <td id=\"T_33b19_row10_col3\" class=\"data row10 col3\" >97</td>\n",
       "      <td id=\"T_33b19_row10_col4\" class=\"data row10 col4\" >11</td>\n",
       "    </tr>\n",
       "    <tr>\n",
       "      <th id=\"T_33b19_level0_row11\" class=\"row_heading level0 row11\" >11</th>\n",
       "      <td id=\"T_33b19_row11_col0\" class=\"data row11 col0\" >Latin America & Caribbean</td>\n",
       "      <td id=\"T_33b19_row11_col1\" class=\"data row11 col1\" >2</td>\n",
       "      <td id=\"T_33b19_row11_col2\" class=\"data row11 col2\" >Chile</td>\n",
       "      <td id=\"T_33b19_row11_col3\" class=\"data row11 col3\" >82</td>\n",
       "      <td id=\"T_33b19_row11_col4\" class=\"data row11 col4\" >52</td>\n",
       "    </tr>\n",
       "    <tr>\n",
       "      <th id=\"T_33b19_level0_row12\" class=\"row_heading level0 row12\" >12</th>\n",
       "      <td id=\"T_33b19_row12_col0\" class=\"data row12 col0\" >Latin America & Caribbean</td>\n",
       "      <td id=\"T_33b19_row12_col1\" class=\"data row12 col1\" >3</td>\n",
       "      <td id=\"T_33b19_row12_col2\" class=\"data row12 col2\" >Barbados</td>\n",
       "      <td id=\"T_33b19_row12_col3\" class=\"data row12 col3\" >82</td>\n",
       "      <td id=\"T_33b19_row12_col4\" class=\"data row12 col4\" >55</td>\n",
       "    </tr>\n",
       "    <tr>\n",
       "      <th id=\"T_33b19_level0_row13\" class=\"row_heading level0 row13\" >13</th>\n",
       "      <td id=\"T_33b19_row13_col0\" class=\"data row13 col0\" >Latin America & Caribbean</td>\n",
       "      <td id=\"T_33b19_row13_col1\" class=\"data row13 col1\" >4</td>\n",
       "      <td id=\"T_33b19_row13_col2\" class=\"data row13 col2\" >Costa Rica</td>\n",
       "      <td id=\"T_33b19_row13_col3\" class=\"data row13 col3\" >81</td>\n",
       "      <td id=\"T_33b19_row13_col4\" class=\"data row13 col4\" >57</td>\n",
       "    </tr>\n",
       "    <tr>\n",
       "      <th id=\"T_33b19_level0_row14\" class=\"row_heading level0 row14\" >14</th>\n",
       "      <td id=\"T_33b19_row14_col0\" class=\"data row14 col0\" >Latin America & Caribbean</td>\n",
       "      <td id=\"T_33b19_row14_col1\" class=\"data row14 col1\" >5</td>\n",
       "      <td id=\"T_33b19_row14_col2\" class=\"data row14 col2\" >Cayman Islands</td>\n",
       "      <td id=\"T_33b19_row14_col3\" class=\"data row14 col3\" >81</td>\n",
       "      <td id=\"T_33b19_row14_col4\" class=\"data row14 col4\" >58</td>\n",
       "    </tr>\n",
       "    <tr>\n",
       "      <th id=\"T_33b19_level0_row15\" class=\"row_heading level0 row15\" >15</th>\n",
       "      <td id=\"T_33b19_row15_col0\" class=\"data row15 col0\" >Middle East & North Africa</td>\n",
       "      <td id=\"T_33b19_row15_col1\" class=\"data row15 col1\" >1</td>\n",
       "      <td id=\"T_33b19_row15_col2\" class=\"data row15 col2\" >Bahrain</td>\n",
       "      <td id=\"T_33b19_row15_col3\" class=\"data row15 col3\" >100</td>\n",
       "      <td id=\"T_33b19_row15_col4\" class=\"data row15 col4\" >1</td>\n",
       "    </tr>\n",
       "    <tr>\n",
       "      <th id=\"T_33b19_level0_row16\" class=\"row_heading level0 row16\" >16</th>\n",
       "      <td id=\"T_33b19_row16_col0\" class=\"data row16 col0\" >Middle East & North Africa</td>\n",
       "      <td id=\"T_33b19_row16_col1\" class=\"data row16 col1\" >2</td>\n",
       "      <td id=\"T_33b19_row16_col2\" class=\"data row16 col2\" >Qatar</td>\n",
       "      <td id=\"T_33b19_row16_col3\" class=\"data row16 col3\" >100</td>\n",
       "      <td id=\"T_33b19_row16_col4\" class=\"data row16 col4\" >2</td>\n",
       "    </tr>\n",
       "    <tr>\n",
       "      <th id=\"T_33b19_level0_row17\" class=\"row_heading level0 row17\" >17</th>\n",
       "      <td id=\"T_33b19_row17_col0\" class=\"data row17 col0\" >Middle East & North Africa</td>\n",
       "      <td id=\"T_33b19_row17_col1\" class=\"data row17 col1\" >3</td>\n",
       "      <td id=\"T_33b19_row17_col2\" class=\"data row17 col2\" >Kuwait</td>\n",
       "      <td id=\"T_33b19_row17_col3\" class=\"data row17 col3\" >100</td>\n",
       "      <td id=\"T_33b19_row17_col4\" class=\"data row17 col4\" >4</td>\n",
       "    </tr>\n",
       "    <tr>\n",
       "      <th id=\"T_33b19_level0_row18\" class=\"row_heading level0 row18\" >18</th>\n",
       "      <td id=\"T_33b19_row18_col0\" class=\"data row18 col0\" >Middle East & North Africa</td>\n",
       "      <td id=\"T_33b19_row18_col1\" class=\"data row18 col1\" >4</td>\n",
       "      <td id=\"T_33b19_row18_col2\" class=\"data row18 col2\" >United Arab Emirates</td>\n",
       "      <td id=\"T_33b19_row18_col3\" class=\"data row18 col3\" >99</td>\n",
       "      <td id=\"T_33b19_row18_col4\" class=\"data row18 col4\" >5</td>\n",
       "    </tr>\n",
       "    <tr>\n",
       "      <th id=\"T_33b19_level0_row19\" class=\"row_heading level0 row19\" >19</th>\n",
       "      <td id=\"T_33b19_row19_col0\" class=\"data row19 col0\" >Middle East & North Africa</td>\n",
       "      <td id=\"T_33b19_row19_col1\" class=\"data row19 col1\" >5</td>\n",
       "      <td id=\"T_33b19_row19_col2\" class=\"data row19 col2\" >Saudi Arabia</td>\n",
       "      <td id=\"T_33b19_row19_col3\" class=\"data row19 col3\" >96</td>\n",
       "      <td id=\"T_33b19_row19_col4\" class=\"data row19 col4\" >15</td>\n",
       "    </tr>\n",
       "    <tr>\n",
       "      <th id=\"T_33b19_level0_row20\" class=\"row_heading level0 row20\" >20</th>\n",
       "      <td id=\"T_33b19_row20_col0\" class=\"data row20 col0\" >North America</td>\n",
       "      <td id=\"T_33b19_row20_col1\" class=\"data row20 col1\" >1</td>\n",
       "      <td id=\"T_33b19_row20_col2\" class=\"data row20 col2\" >Bermuda</td>\n",
       "      <td id=\"T_33b19_row20_col3\" class=\"data row20 col3\" >98</td>\n",
       "      <td id=\"T_33b19_row20_col4\" class=\"data row20 col4\" >7</td>\n",
       "    </tr>\n",
       "    <tr>\n",
       "      <th id=\"T_33b19_level0_row21\" class=\"row_heading level0 row21\" >21</th>\n",
       "      <td id=\"T_33b19_row21_col0\" class=\"data row21 col0\" >North America</td>\n",
       "      <td id=\"T_33b19_row21_col1\" class=\"data row21 col1\" >2</td>\n",
       "      <td id=\"T_33b19_row21_col2\" class=\"data row21 col2\" >Canada</td>\n",
       "      <td id=\"T_33b19_row21_col3\" class=\"data row21 col3\" >93</td>\n",
       "      <td id=\"T_33b19_row21_col4\" class=\"data row21 col4\" >21</td>\n",
       "    </tr>\n",
       "    <tr>\n",
       "      <th id=\"T_33b19_level0_row22\" class=\"row_heading level0 row22\" >22</th>\n",
       "      <td id=\"T_33b19_row22_col0\" class=\"data row22 col0\" >North America</td>\n",
       "      <td id=\"T_33b19_row22_col1\" class=\"data row22 col1\" >3</td>\n",
       "      <td id=\"T_33b19_row22_col2\" class=\"data row22 col2\" >United States</td>\n",
       "      <td id=\"T_33b19_row22_col3\" class=\"data row22 col3\" >88</td>\n",
       "      <td id=\"T_33b19_row22_col4\" class=\"data row22 col4\" >34</td>\n",
       "    </tr>\n",
       "    <tr>\n",
       "      <th id=\"T_33b19_level0_row23\" class=\"row_heading level0 row23\" >23</th>\n",
       "      <td id=\"T_33b19_row23_col0\" class=\"data row23 col0\" >South Asia</td>\n",
       "      <td id=\"T_33b19_row23_col1\" class=\"data row23 col1\" >1</td>\n",
       "      <td id=\"T_33b19_row23_col2\" class=\"data row23 col2\" >Maldives</td>\n",
       "      <td id=\"T_33b19_row23_col3\" class=\"data row23 col3\" >63</td>\n",
       "      <td id=\"T_33b19_row23_col4\" class=\"data row23 col4\" >107</td>\n",
       "    </tr>\n",
       "    <tr>\n",
       "      <th id=\"T_33b19_level0_row24\" class=\"row_heading level0 row24\" >24</th>\n",
       "      <td id=\"T_33b19_row24_col0\" class=\"data row24 col0\" >South Asia</td>\n",
       "      <td id=\"T_33b19_row24_col1\" class=\"data row24 col1\" >2</td>\n",
       "      <td id=\"T_33b19_row24_col2\" class=\"data row24 col2\" >Bhutan</td>\n",
       "      <td id=\"T_33b19_row24_col3\" class=\"data row24 col3\" >42</td>\n",
       "      <td id=\"T_33b19_row24_col4\" class=\"data row24 col4\" >136</td>\n",
       "    </tr>\n",
       "    <tr>\n",
       "      <th id=\"T_33b19_level0_row25\" class=\"row_heading level0 row25\" >25</th>\n",
       "      <td id=\"T_33b19_row25_col0\" class=\"data row25 col0\" >South Asia</td>\n",
       "      <td id=\"T_33b19_row25_col1\" class=\"data row25 col1\" >3</td>\n",
       "      <td id=\"T_33b19_row25_col2\" class=\"data row25 col2\" >Sri Lanka</td>\n",
       "      <td id=\"T_33b19_row25_col3\" class=\"data row25 col3\" >34</td>\n",
       "      <td id=\"T_33b19_row25_col4\" class=\"data row25 col4\" >149</td>\n",
       "    </tr>\n",
       "    <tr>\n",
       "      <th id=\"T_33b19_level0_row26\" class=\"row_heading level0 row26\" >26</th>\n",
       "      <td id=\"T_33b19_row26_col0\" class=\"data row26 col0\" >South Asia</td>\n",
       "      <td id=\"T_33b19_row26_col1\" class=\"data row26 col1\" >4</td>\n",
       "      <td id=\"T_33b19_row26_col2\" class=\"data row26 col2\" >India</td>\n",
       "      <td id=\"T_33b19_row26_col3\" class=\"data row26 col3\" >32</td>\n",
       "      <td id=\"T_33b19_row26_col4\" class=\"data row26 col4\" >155</td>\n",
       "    </tr>\n",
       "    <tr>\n",
       "      <th id=\"T_33b19_level0_row27\" class=\"row_heading level0 row27\" >27</th>\n",
       "      <td id=\"T_33b19_row27_col0\" class=\"data row27 col0\" >South Asia</td>\n",
       "      <td id=\"T_33b19_row27_col1\" class=\"data row27 col1\" >5</td>\n",
       "      <td id=\"T_33b19_row27_col2\" class=\"data row27 col2\" >Nepal</td>\n",
       "      <td id=\"T_33b19_row27_col3\" class=\"data row27 col3\" >21</td>\n",
       "      <td id=\"T_33b19_row27_col4\" class=\"data row27 col4\" >178</td>\n",
       "    </tr>\n",
       "    <tr>\n",
       "      <th id=\"T_33b19_level0_row28\" class=\"row_heading level0 row28\" >28</th>\n",
       "      <td id=\"T_33b19_row28_col0\" class=\"data row28 col0\" >Sub-Saharan Africa</td>\n",
       "      <td id=\"T_33b19_row28_col1\" class=\"data row28 col1\" >1</td>\n",
       "      <td id=\"T_33b19_row28_col2\" class=\"data row28 col2\" >Mauritius</td>\n",
       "      <td id=\"T_33b19_row28_col3\" class=\"data row28 col3\" >64</td>\n",
       "      <td id=\"T_33b19_row28_col4\" class=\"data row28 col4\" >105</td>\n",
       "    </tr>\n",
       "    <tr>\n",
       "      <th id=\"T_33b19_level0_row29\" class=\"row_heading level0 row29\" >29</th>\n",
       "      <td id=\"T_33b19_row29_col0\" class=\"data row29 col0\" >Sub-Saharan Africa</td>\n",
       "      <td id=\"T_33b19_row29_col1\" class=\"data row29 col1\" >2</td>\n",
       "      <td id=\"T_33b19_row29_col2\" class=\"data row29 col2\" >Seychelles</td>\n",
       "      <td id=\"T_33b19_row29_col3\" class=\"data row29 col3\" >59</td>\n",
       "      <td id=\"T_33b19_row29_col4\" class=\"data row29 col4\" >115</td>\n",
       "    </tr>\n",
       "    <tr>\n",
       "      <th id=\"T_33b19_level0_row30\" class=\"row_heading level0 row30\" >30</th>\n",
       "      <td id=\"T_33b19_row30_col0\" class=\"data row30 col0\" >Sub-Saharan Africa</td>\n",
       "      <td id=\"T_33b19_row30_col1\" class=\"data row30 col1\" >3</td>\n",
       "      <td id=\"T_33b19_row30_col2\" class=\"data row30 col2\" >South Africa</td>\n",
       "      <td id=\"T_33b19_row30_col3\" class=\"data row30 col3\" >56</td>\n",
       "      <td id=\"T_33b19_row30_col4\" class=\"data row30 col4\" >118</td>\n",
       "    </tr>\n",
       "    <tr>\n",
       "      <th id=\"T_33b19_level0_row31\" class=\"row_heading level0 row31\" >31</th>\n",
       "      <td id=\"T_33b19_row31_col0\" class=\"data row31 col0\" >Sub-Saharan Africa</td>\n",
       "      <td id=\"T_33b19_row31_col1\" class=\"data row31 col1\" >4</td>\n",
       "      <td id=\"T_33b19_row31_col2\" class=\"data row31 col2\" >Gabon</td>\n",
       "      <td id=\"T_33b19_row31_col3\" class=\"data row31 col3\" >50</td>\n",
       "      <td id=\"T_33b19_row31_col4\" class=\"data row31 col4\" >126</td>\n",
       "    </tr>\n",
       "    <tr>\n",
       "      <th id=\"T_33b19_level0_row32\" class=\"row_heading level0 row32\" >32</th>\n",
       "      <td id=\"T_33b19_row32_col0\" class=\"data row32 col0\" >Sub-Saharan Africa</td>\n",
       "      <td id=\"T_33b19_row32_col1\" class=\"data row32 col1\" >5</td>\n",
       "      <td id=\"T_33b19_row32_col2\" class=\"data row32 col2\" >Botswana</td>\n",
       "      <td id=\"T_33b19_row32_col3\" class=\"data row32 col3\" >41</td>\n",
       "      <td id=\"T_33b19_row32_col4\" class=\"data row32 col4\" >137</td>\n",
       "    </tr>\n",
       "  </tbody>\n",
       "</table>\n"
      ],
      "text/plain": [
       "<pandas.io.formats.style.Styler at 0x211090342b0>"
      ]
     },
     "execution_count": 24,
     "metadata": {},
     "output_type": "execute_result"
    }
   ],
   "source": [
    "top_fives.style.format(precision=0).background_gradient(subset=['Rank per Region','Global Rank'], cmap='crest')"
   ]
  },
  {
   "cell_type": "markdown",
   "id": "e56224be-d0b2-4f06-b8da-225dc170b2f7",
   "metadata": {},
   "source": [
    "It is interesting to observe that the Global Rank for these top five countries is quite varied across the table (ranging from 1 to 178 for 28 observations), but tends to be similar for all countries in the same regions.\n",
    "\n",
    "A <mark>visualization for those five regions' Internet usage over time</mark> might shade more light on this issue."
   ]
  },
  {
   "cell_type": "code",
   "execution_count": 25,
   "id": "39964a3a-51c6-46f6-af65-89050c34c66e",
   "metadata": {
    "executionTime": 173,
    "jupyter": {
     "outputs_hidden": false,
     "source_hidden": true
    },
    "lastSuccessfullyExecutedCode": "#plotting the evolution of the median of % of pop. per region\nsns.set_style('darkgrid')\nsns.relplot(x='Year', y='Internet_Usage', data=per_region, kind='line', style='Region', hue='Region', palette=colour, markers=True, height=4, aspect=2)\nplt.xlabel('Year')\nplt.ylabel('Percent of Population Using Internet')\nplt.title(\"Evolution of % of Population Using Internet Per Region\")\nplt.show()"
   },
   "outputs": [
    {
     "data": {
      "image/png": "[encoded data removed]",
      "text/plain": [
       "<Figure size 1015.5x400 with 1 Axes>"
      ]
     },
     "metadata": {},
     "output_type": "display_data"
    }
   ],
   "source": [
    "#plotting the evolution of the median of % of pop. per region\n",
    "sns.set_style('darkgrid')\n",
    "sns.relplot(x='Year', y='Internet_Usage', data=per_region, kind='line', style='Region', hue='Region', palette=colour, markers=True, height=4, aspect=2)\n",
    "plt.xlabel('Year')\n",
    "plt.ylabel('Percent of Population Using Internet')\n",
    "plt.title(\"Evolution of % of Population Using Internet Per Region\")\n",
    "plt.show()"
   ]
  },
  {
   "cell_type": "markdown",
   "id": "b242ede4-ce0e-4823-9c72-edd40d9ac07b",
   "metadata": {},
   "source": [
    "Although all six regions experienced significant growth in % of the population using the Internet over the last 30 years, the scale of this growth is not the same. While the median values for the Middle East & North Africa (94%), North America (88%) and Europe & Central Asia (84%) passed the threshold of 80% in the late 2010s, the median for Latin America & Caribbean (69%) and East Asia & Pacific(68%) failed to surpass 70%. In Sub-Saharan Africa it is 43% with considerable fgrowth in the late 2010s. As for South Asia, its trend for the late 2010s is downward, with median share of the population with access to the Internet in 2019 of 17%, which differs drastically from the rest of the analysed regions."
   ]
  },
  {
   "cell_type": "code",
   "execution_count": 26,
   "id": "f73b7c79-1f41-4ec4-a954-a791fa9de5ed",
   "metadata": {
    "executionTime": 60,
    "jupyter": {
     "outputs_hidden": false,
     "source_hidden": true
    },
    "lastSuccessfullyExecutedCode": "per_region_latest.style.set_precision(0).background_gradient(subset='% of Population Using the Internet', cmap='flare')"
   },
   "outputs": [
    {
     "data": {
      "text/html": [
       "<style type=\"text/css\">\n",
       "#T_93d47_row0_col2 {\n",
       "  background-color: #9c3670;\n",
       "  color: #f1f1f1;\n",
       "}\n",
       "#T_93d47_row1_col2 {\n",
       "  background-color: #692b6c;\n",
       "  color: #f1f1f1;\n",
       "}\n",
       "#T_93d47_row2_col2 {\n",
       "  background-color: #993570;\n",
       "  color: #f1f1f1;\n",
       "}\n",
       "#T_93d47_row3_col2 {\n",
       "  background-color: #4b2362;\n",
       "  color: #f1f1f1;\n",
       "}\n",
       "#T_93d47_row4_col2 {\n",
       "  background-color: #5b2867;\n",
       "  color: #f1f1f1;\n",
       "}\n",
       "#T_93d47_row5_col2 {\n",
       "  background-color: #edb081;\n",
       "  color: #000000;\n",
       "}\n",
       "#T_93d47_row6_col2 {\n",
       "  background-color: #de5b5c;\n",
       "  color: #f1f1f1;\n",
       "}\n",
       "</style>\n",
       "<table id=\"T_93d47\">\n",
       "  <thead>\n",
       "    <tr>\n",
       "      <th class=\"blank level0\" >&nbsp;</th>\n",
       "      <th id=\"T_93d47_level0_col0\" class=\"col_heading level0 col0\" >Region</th>\n",
       "      <th id=\"T_93d47_level0_col1\" class=\"col_heading level0 col1\" >Latest Observation</th>\n",
       "      <th id=\"T_93d47_level0_col2\" class=\"col_heading level0 col2\" >% of Population Using the Internet</th>\n",
       "    </tr>\n",
       "  </thead>\n",
       "  <tbody>\n",
       "    <tr>\n",
       "      <th id=\"T_93d47_level0_row0\" class=\"row_heading level0 row0\" >0</th>\n",
       "      <td id=\"T_93d47_row0_col0\" class=\"data row0 col0\" >East Asia & Pacific</td>\n",
       "      <td id=\"T_93d47_row0_col1\" class=\"data row0 col1\" >2019</td>\n",
       "      <td id=\"T_93d47_row0_col2\" class=\"data row0 col2\" >68</td>\n",
       "    </tr>\n",
       "    <tr>\n",
       "      <th id=\"T_93d47_level0_row1\" class=\"row_heading level0 row1\" >1</th>\n",
       "      <td id=\"T_93d47_row1_col0\" class=\"data row1 col0\" >Europe & Central Asia</td>\n",
       "      <td id=\"T_93d47_row1_col1\" class=\"data row1 col1\" >2019</td>\n",
       "      <td id=\"T_93d47_row1_col2\" class=\"data row1 col2\" >84</td>\n",
       "    </tr>\n",
       "    <tr>\n",
       "      <th id=\"T_93d47_level0_row2\" class=\"row_heading level0 row2\" >2</th>\n",
       "      <td id=\"T_93d47_row2_col0\" class=\"data row2 col0\" >Latin America & Caribbean</td>\n",
       "      <td id=\"T_93d47_row2_col1\" class=\"data row2 col1\" >2019</td>\n",
       "      <td id=\"T_93d47_row2_col2\" class=\"data row2 col2\" >69</td>\n",
       "    </tr>\n",
       "    <tr>\n",
       "      <th id=\"T_93d47_level0_row3\" class=\"row_heading level0 row3\" >3</th>\n",
       "      <td id=\"T_93d47_row3_col0\" class=\"data row3 col0\" >Middle East & North Africa</td>\n",
       "      <td id=\"T_93d47_row3_col1\" class=\"data row3 col1\" >2019</td>\n",
       "      <td id=\"T_93d47_row3_col2\" class=\"data row3 col2\" >94</td>\n",
       "    </tr>\n",
       "    <tr>\n",
       "      <th id=\"T_93d47_level0_row4\" class=\"row_heading level0 row4\" >4</th>\n",
       "      <td id=\"T_93d47_row4_col0\" class=\"data row4 col0\" >North America</td>\n",
       "      <td id=\"T_93d47_row4_col1\" class=\"data row4 col1\" >2018</td>\n",
       "      <td id=\"T_93d47_row4_col2\" class=\"data row4 col2\" >88</td>\n",
       "    </tr>\n",
       "    <tr>\n",
       "      <th id=\"T_93d47_level0_row5\" class=\"row_heading level0 row5\" >5</th>\n",
       "      <td id=\"T_93d47_row5_col0\" class=\"data row5 col0\" >South Asia</td>\n",
       "      <td id=\"T_93d47_row5_col1\" class=\"data row5 col1\" >2019</td>\n",
       "      <td id=\"T_93d47_row5_col2\" class=\"data row5 col2\" >17</td>\n",
       "    </tr>\n",
       "    <tr>\n",
       "      <th id=\"T_93d47_level0_row6\" class=\"row_heading level0 row6\" >6</th>\n",
       "      <td id=\"T_93d47_row6_col0\" class=\"data row6 col0\" >Sub-Saharan Africa</td>\n",
       "      <td id=\"T_93d47_row6_col1\" class=\"data row6 col1\" >2019</td>\n",
       "      <td id=\"T_93d47_row6_col2\" class=\"data row6 col2\" >43</td>\n",
       "    </tr>\n",
       "  </tbody>\n",
       "</table>\n"
      ],
      "text/plain": [
       "<pandas.io.formats.style.Styler at 0x2110934f880>"
      ]
     },
     "execution_count": 26,
     "metadata": {},
     "output_type": "execute_result"
    }
   ],
   "source": [
    "per_region_latest.style.format(precision=0).background_gradient(subset='% of Population Using the Internet', cmap='flare')"
   ]
  },
  {
   "cell_type": "markdown",
   "id": "4f43eab2-1633-4f2f-abc3-8706b31c13ae",
   "metadata": {},
   "source": [
    "Having already seen the top five countries by share of the population using the Internet, let's glance at <mark>the five countries with the most Internet users</mark>."
   ]
  },
  {
   "cell_type": "code",
   "execution_count": 27,
   "id": "033abcfa-65b0-43a1-a981-366008c7ab38",
   "metadata": {
    "executionTime": 89,
    "jupyter": {
     "outputs_hidden": false,
     "source_hidden": true
    },
    "lastSuccessfullyExecutedCode": "top_five_users"
   },
   "outputs": [
    {
     "data": {
      "text/html": [
       "<div>\n",
       "<style scoped>\n",
       "    .dataframe tbody tr th:only-of-type {\n",
       "        vertical-align: middle;\n",
       "    }\n",
       "\n",
       "    .dataframe tbody tr th {\n",
       "        vertical-align: top;\n",
       "    }\n",
       "\n",
       "    .dataframe thead th {\n",
       "        text-align: right;\n",
       "    }\n",
       "</style>\n",
       "<table border=\"1\" class=\"dataframe\">\n",
       "  <thead>\n",
       "    <tr style=\"text-align: right;\">\n",
       "      <th></th>\n",
       "      <th>Country</th>\n",
       "      <th>Number of Internet Users</th>\n",
       "    </tr>\n",
       "  </thead>\n",
       "  <tbody>\n",
       "    <tr>\n",
       "      <th>0</th>\n",
       "      <td>China</td>\n",
       "      <td>1.003219e+09</td>\n",
       "    </tr>\n",
       "    <tr>\n",
       "      <th>1</th>\n",
       "      <td>India</td>\n",
       "      <td>6.004464e+08</td>\n",
       "    </tr>\n",
       "    <tr>\n",
       "      <th>2</th>\n",
       "      <td>United States</td>\n",
       "      <td>3.053713e+08</td>\n",
       "    </tr>\n",
       "    <tr>\n",
       "      <th>3</th>\n",
       "      <td>Brazil</td>\n",
       "      <td>1.734196e+08</td>\n",
       "    </tr>\n",
       "    <tr>\n",
       "      <th>4</th>\n",
       "      <td>Indonesia</td>\n",
       "      <td>1.460598e+08</td>\n",
       "    </tr>\n",
       "  </tbody>\n",
       "</table>\n",
       "</div>"
      ],
      "text/plain": [
       "         Country  Number of Internet Users\n",
       "0          China              1.003219e+09\n",
       "1          India              6.004464e+08\n",
       "2  United States              3.053713e+08\n",
       "3         Brazil              1.734196e+08\n",
       "4      Indonesia              1.460598e+08"
      ]
     },
     "execution_count": 27,
     "metadata": {},
     "output_type": "execute_result"
    }
   ],
   "source": [
    "top_five_users"
   ]
  },
  {
   "cell_type": "markdown",
   "id": "f46fc6a0-0477-4e18-8dee-44ec19ca69df",
   "metadata": {},
   "source": [
    "These seem to be one of the most populated countries as well. Curiously, none of these have appeared in our previous top five by share of population using the Internet."
   ]
  },
  {
   "cell_type": "markdown",
   "id": "d3fe18d7-6716-477b-aa49-745f85298038",
   "metadata": {},
   "source": [
    "Instead, let's plot the <mark>correlation between Internet usage (population share) and share of broadband subscriptions for 2019</mark>."
   ]
  },
  {
   "cell_type": "code",
   "execution_count": 28,
   "id": "42853353-8952-445a-b03f-ae6abea13fa8",
   "metadata": {
    "executionTime": 61,
    "jupyter": {
     "outputs_hidden": false,
     "source_hidden": true
    },
    "lastSuccessfullyExecutedCode": "#visualization\nsns.set_style('darkgrid')\nsns.scatterplot(x='Internet_Usage', y='Broadband_Subscriptions', data=df_2019, hue='Region', hue_order=['Middle East & North Africa', 'Latin America & Caribbean', 'East Asia & Pacific', 'South Asia', 'North America', 'Europe & Central Asia', 'not specified'],palette=colour)\nplt.xlabel('Percentage of Population Using Internet')\nplt.ylabel('Broadband_Subscriptions')\nplt.title(f\"Moderate correlation (Pearson's coefficient: {correlation})\")\nplt.show()"
   },
   "outputs": [
    {
     "data": {
      "image/png": "[encoded data removed]",
      "text/plain": [
       "<Figure size 640x480 with 1 Axes>"
      ]
     },
     "metadata": {},
     "output_type": "display_data"
    }
   ],
   "source": [
    "#visualization\n",
    "sns.set_style('darkgrid')\n",
    "sns.scatterplot(x='Internet_Usage', y='Broadband_Subscriptions', data=df_2019, hue='Region', hue_order=['Middle East & North Africa', 'Latin America & Caribbean', 'East Asia & Pacific', 'South Asia', 'North America', 'Europe & Central Asia', 'Sub-Saharan Africa', 'not specified'],palette=colour)\n",
    "plt.xlabel('Percentage of Population Using Internet')\n",
    "plt.ylabel('Broadband_Subscriptions')\n",
    "plt.title(f\"Moderate correlation (Pearson's coefficient: {correlation})\")\n",
    "plt.show()"
   ]
  },
  {
   "cell_type": "markdown",
   "id": "3d314396-d307-42fe-a69c-e46f3bc94ce9",
   "metadata": {},
   "source": [
    "There is a moderate positive correlation of 0.56 between the share of broadband subscriptions and the share of the population using the Internet. It does vary, however, depending on the region. While for Middle East & North Africa this correlation seems to be really feeble, for Europe & Central Asia this correlation seems to be more patent."
   ]
  }
 ],
 "metadata": {
  "editor": "DataCamp Workspace",
  "kernelspec": {
   "display_name": "Python 3 (ipykernel)",
   "language": "python",
   "name": "python3"
  },
  "language_info": {
   "codemirror_mode": {
    "name": "ipython",
    "version": 3
   },
   "file_extension": ".py",
   "mimetype": "text/x-python",
   "name": "python",
   "nbconvert_exporter": "python",
   "pygments_lexer": "ipython3",
   "version": "3.9.13"
  }
 },
 "nbformat": 4,
 "nbformat_minor": 5
}
